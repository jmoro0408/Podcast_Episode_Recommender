{
 "cells": [
  {
   "cell_type": "code",
   "execution_count": 13,
   "metadata": {},
   "outputs": [],
   "source": [
    "import pandas as pd\n",
    "import pickle"
   ]
  },
  {
   "cell_type": "code",
   "execution_count": 14,
   "metadata": {},
   "outputs": [],
   "source": [
    "with open(\"all_episodes_similarity.pkl\", \"rb\") as f:\n",
    "    all_episodes_dict = pickle.load(f)"
   ]
  },
  {
   "cell_type": "code",
   "execution_count": 15,
   "metadata": {},
   "outputs": [],
   "source": [
    "# This cell removes the score from the values dict\n",
    "episode_similarity_exploded = {}\n",
    "for key, value in all_episodes_dict.items():\n",
    "    episode_similarity_exploded[key] = list(value.keys())"
   ]
  },
  {
   "cell_type": "code",
   "execution_count": 16,
   "metadata": {},
   "outputs": [],
   "source": [
    "# This really is just prepping the df for the streamlit app\n",
    "df = pd.DataFrame.from_dict(episode_similarity_exploded, orient=\"index\").reset_index()\n",
    "df = df.reset_index(drop = True).T\n",
    "df.columns = df.iloc[0]\n",
    "df = df[1:]\n",
    "# Rearranging cols\n",
    "df['Rank'] = ['1st', '2nd', '3rd', '4th', '5th']\n",
    "df_cols = df.columns.to_list()\n",
    "df_cols.remove('Rank')\n",
    "df_cols = ['Rank'] + df_cols\n",
    "df = df[df_cols]"
   ]
  },
  {
   "cell_type": "code",
   "execution_count": 17,
   "metadata": {},
   "outputs": [],
   "source": [
    "df.to_pickle('all_episodes_similarity_df.pkl')"
   ]
  }
 ],
 "metadata": {
  "kernelspec": {
   "display_name": "topic",
   "language": "python",
   "name": "python3"
  },
  "language_info": {
   "codemirror_mode": {
    "name": "ipython",
    "version": 3
   },
   "file_extension": ".py",
   "mimetype": "text/x-python",
   "name": "python",
   "nbconvert_exporter": "python",
   "pygments_lexer": "ipython3",
   "version": "3.9.15"
  },
  "orig_nbformat": 4,
  "vscode": {
   "interpreter": {
    "hash": "fcaef5dbe99b389c41655586090f2e04b2af5767bc6de9d17eb99b67feb65ce8"
   }
  }
 },
 "nbformat": 4,
 "nbformat_minor": 2
}
