{
 "cells": [
  {
   "cell_type": "code",
   "execution_count": 1,
   "metadata": {},
   "outputs": [],
   "source": [
    "import pandas as pd\n",
    "import pickle"
   ]
  },
  {
   "cell_type": "code",
   "execution_count": 7,
   "metadata": {},
   "outputs": [],
   "source": [
    "with open(\"all_episodes_similarity.pkl\", \"rb\") as f:\n",
    "    all_episodes_dict = pickle.load(f)"
   ]
  },
  {
   "cell_type": "code",
   "execution_count": 21,
   "metadata": {},
   "outputs": [],
   "source": [
    "episode_similarity_exploded = {}\n",
    "for key, value in all_episodes_dict.items():\n",
    "    episode_similarity_exploded[key] = list(value.keys())"
   ]
  },
  {
   "cell_type": "code",
   "execution_count": 22,
   "metadata": {},
   "outputs": [
    {
     "data": {
      "text/plain": [
       "{\"Short Stuff: The Devil's Den\": ['SYSK Selects: How the Panama Canal Works',\n",
       "  'How PEZ Works',\n",
       "  'Short Stuff: Black Loyalists',\n",
       "  \"Short Stuff: The Devil's Den\",\n",
       "  'Pterosaurs: Not Flying Dinosaurs'],\n",
       " 'How to Donate Your Body to Science': ['How to Donate Your Body to Science',\n",
       "  'SYSK Selects: How Bonsai Works',\n",
       "  'Is spontaneous human combustion real?',\n",
       "  'How Hang Gliding Works',\n",
       "  'SYSK Selects: How a Flea Circus Works'],\n",
       " 'How The Voynich Manuscript Works': ['How The Voynich Manuscript Works',\n",
       "  'How Thoroughbred Horses Work',\n",
       "  'SYSK Selects: How Caving Works',\n",
       "  'Short Stuff: Shar Pei',\n",
       "  'Selects: What Is Collective Hysteria?']}"
      ]
     },
     "execution_count": 22,
     "metadata": {},
     "output_type": "execute_result"
    }
   ],
   "source": [
    "episode_similarity_exploded"
   ]
  },
  {
   "cell_type": "code",
   "execution_count": 33,
   "metadata": {},
   "outputs": [],
   "source": [
    "df = pd.DataFrame.from_dict(episode_similarity_exploded, \n",
    "                       orient = 'index').reset_index()"
   ]
  },
  {
   "cell_type": "code",
   "execution_count": 35,
   "metadata": {},
   "outputs": [
    {
     "data": {
      "text/html": [
       "<div>\n",
       "<style scoped>\n",
       "    .dataframe tbody tr th:only-of-type {\n",
       "        vertical-align: middle;\n",
       "    }\n",
       "\n",
       "    .dataframe tbody tr th {\n",
       "        vertical-align: top;\n",
       "    }\n",
       "\n",
       "    .dataframe thead th {\n",
       "        text-align: right;\n",
       "    }\n",
       "</style>\n",
       "<table border=\"1\" class=\"dataframe\">\n",
       "  <thead>\n",
       "    <tr style=\"text-align: right;\">\n",
       "      <th></th>\n",
       "      <th>Episode to compare</th>\n",
       "      <th>0</th>\n",
       "      <th>1</th>\n",
       "      <th>2</th>\n",
       "      <th>3</th>\n",
       "      <th>4</th>\n",
       "    </tr>\n",
       "  </thead>\n",
       "  <tbody>\n",
       "    <tr>\n",
       "      <th>0</th>\n",
       "      <td>Short Stuff: The Devil's Den</td>\n",
       "      <td>SYSK Selects: How the Panama Canal Works</td>\n",
       "      <td>How PEZ Works</td>\n",
       "      <td>Short Stuff: Black Loyalists</td>\n",
       "      <td>Short Stuff: The Devil's Den</td>\n",
       "      <td>Pterosaurs: Not Flying Dinosaurs</td>\n",
       "    </tr>\n",
       "    <tr>\n",
       "      <th>1</th>\n",
       "      <td>How to Donate Your Body to Science</td>\n",
       "      <td>How to Donate Your Body to Science</td>\n",
       "      <td>SYSK Selects: How Bonsai Works</td>\n",
       "      <td>Is spontaneous human combustion real?</td>\n",
       "      <td>How Hang Gliding Works</td>\n",
       "      <td>SYSK Selects: How a Flea Circus Works</td>\n",
       "    </tr>\n",
       "    <tr>\n",
       "      <th>2</th>\n",
       "      <td>How The Voynich Manuscript Works</td>\n",
       "      <td>How The Voynich Manuscript Works</td>\n",
       "      <td>How Thoroughbred Horses Work</td>\n",
       "      <td>SYSK Selects: How Caving Works</td>\n",
       "      <td>Short Stuff: Shar Pei</td>\n",
       "      <td>Selects: What Is Collective Hysteria?</td>\n",
       "    </tr>\n",
       "  </tbody>\n",
       "</table>\n",
       "</div>"
      ],
      "text/plain": [
       "                   Episode to compare  \\\n",
       "0        Short Stuff: The Devil's Den   \n",
       "1  How to Donate Your Body to Science   \n",
       "2    How The Voynich Manuscript Works   \n",
       "\n",
       "                                          0                               1  \\\n",
       "0  SYSK Selects: How the Panama Canal Works                   How PEZ Works   \n",
       "1        How to Donate Your Body to Science  SYSK Selects: How Bonsai Works   \n",
       "2          How The Voynich Manuscript Works    How Thoroughbred Horses Work   \n",
       "\n",
       "                                       2                             3  \\\n",
       "0           Short Stuff: Black Loyalists  Short Stuff: The Devil's Den   \n",
       "1  Is spontaneous human combustion real?        How Hang Gliding Works   \n",
       "2         SYSK Selects: How Caving Works         Short Stuff: Shar Pei   \n",
       "\n",
       "                                       4  \n",
       "0       Pterosaurs: Not Flying Dinosaurs  \n",
       "1  SYSK Selects: How a Flea Circus Works  \n",
       "2  Selects: What Is Collective Hysteria?  "
      ]
     },
     "execution_count": 35,
     "metadata": {},
     "output_type": "execute_result"
    }
   ],
   "source": [
    "df = df.rename(columns = {'index':'Episode to compare'})\n",
    "df.head()"
   ]
  },
  {
   "cell_type": "code",
   "execution_count": null,
   "metadata": {},
   "outputs": [],
   "source": []
  }
 ],
 "metadata": {
  "kernelspec": {
   "display_name": "topic",
   "language": "python",
   "name": "python3"
  },
  "language_info": {
   "codemirror_mode": {
    "name": "ipython",
    "version": 3
   },
   "file_extension": ".py",
   "mimetype": "text/x-python",
   "name": "python",
   "nbconvert_exporter": "python",
   "pygments_lexer": "ipython3",
   "version": "3.9.15"
  },
  "orig_nbformat": 4,
  "vscode": {
   "interpreter": {
    "hash": "fcaef5dbe99b389c41655586090f2e04b2af5767bc6de9d17eb99b67feb65ce8"
   }
  }
 },
 "nbformat": 4,
 "nbformat_minor": 2
}
