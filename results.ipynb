{
 "cells": [
  {
   "cell_type": "code",
   "execution_count": 1,
   "metadata": {},
   "outputs": [],
   "source": [
    "from utils import load_lda_model"
   ]
  },
  {
   "cell_type": "code",
   "execution_count": 6,
   "metadata": {},
   "outputs": [
    {
     "name": "stderr",
     "output_type": "stream",
     "text": [
      "WARNING:root:random_state not set so using default value\n",
      "WARNING:root:failed to load state from /Users/jamesmoro/Documents/Python/Topic_Modelling/Results/model.id2word.state: [Errno 2] No such file or directory: '/Users/jamesmoro/Documents/Python/Topic_Modelling/Results/model.id2word.state'\n"
     ]
    }
   ],
   "source": [
    "lda = load_lda_model(r\"/Users/jamesmoro/Documents/Python/Topic_Modelling/Results/model\")\n",
    "doc_term_matrix = load_lda_model(r\"/Users/jamesmoro/Documents/Python/Topic_Modelling/Results/model.id2word\")"
   ]
  },
  {
   "cell_type": "code",
   "execution_count": null,
   "metadata": {},
   "outputs": [],
   "source": []
  }
 ],
 "metadata": {
  "kernelspec": {
   "display_name": "topic",
   "language": "python",
   "name": "python3"
  },
  "language_info": {
   "codemirror_mode": {
    "name": "ipython",
    "version": 3
   },
   "file_extension": ".py",
   "mimetype": "text/x-python",
   "name": "python",
   "nbconvert_exporter": "python",
   "pygments_lexer": "ipython3",
   "version": "3.9.15"
  },
  "orig_nbformat": 4,
  "vscode": {
   "interpreter": {
    "hash": "fcaef5dbe99b389c41655586090f2e04b2af5767bc6de9d17eb99b67feb65ce8"
   }
  }
 },
 "nbformat": 4,
 "nbformat_minor": 2
}
